{
 "cells": [
  {
   "cell_type": "markdown",
   "metadata": {},
   "source": [
    "## Load the Baby names"
   ]
  },
  {
   "cell_type": "code",
   "execution_count": 1,
   "metadata": {
    "collapsed": true
   },
   "outputs": [],
   "source": [
    "mkdir temp"
   ]
  },
  {
   "cell_type": "code",
   "execution_count": 2,
   "metadata": {
    "collapsed": false
   },
   "outputs": [],
   "source": [
    "import requests, zipfile, StringIO\n",
    "zip_file_url = \"http://www.ssa.gov/oact/babynames/state/namesbystate.zip\"\n",
    "r = requests.get(zip_file_url, stream=True)\n",
    "z = zipfile.ZipFile(StringIO.StringIO(r.content))\n",
    "z.extractall('temp/')"
   ]
  },
  {
   "cell_type": "code",
   "execution_count": 3,
   "metadata": {
    "collapsed": true
   },
   "outputs": [],
   "source": [
    "from os import listdir\n",
    "import pandas as pd\n",
    "\n",
    "dirs = [state for state in listdir('temp/') if state[-4::] == '.TXT']\n",
    "\n",
    "f = []\n",
    "for d in dirs:\n",
    "    path = 'temp/'+d\n",
    "    df = pd.read_csv(path,index_col=False,header=None)\n",
    "    f.append(df)\n",
    "df = pd.concat(f)\n",
    "df.columns = ['state','gender','year','name','count']"
   ]
  },
  {
   "cell_type": "code",
   "execution_count": 4,
   "metadata": {
    "collapsed": false
   },
   "outputs": [
    {
     "data": {
      "text/html": [
       "<div>\n",
       "<table border=\"1\" class=\"dataframe\">\n",
       "  <thead>\n",
       "    <tr style=\"text-align: right;\">\n",
       "      <th></th>\n",
       "      <th>state</th>\n",
       "      <th>gender</th>\n",
       "      <th>year</th>\n",
       "      <th>name</th>\n",
       "      <th>count</th>\n",
       "    </tr>\n",
       "  </thead>\n",
       "  <tbody>\n",
       "    <tr>\n",
       "      <th>36651</th>\n",
       "      <td>MO</td>\n",
       "      <td>F</td>\n",
       "      <td>1974</td>\n",
       "      <td>Carolyn</td>\n",
       "      <td>63</td>\n",
       "    </tr>\n",
       "    <tr>\n",
       "      <th>45930</th>\n",
       "      <td>NY</td>\n",
       "      <td>F</td>\n",
       "      <td>1961</td>\n",
       "      <td>Luz</td>\n",
       "      <td>110</td>\n",
       "    </tr>\n",
       "    <tr>\n",
       "      <th>419</th>\n",
       "      <td>NE</td>\n",
       "      <td>F</td>\n",
       "      <td>1912</td>\n",
       "      <td>Sylvia</td>\n",
       "      <td>18</td>\n",
       "    </tr>\n",
       "    <tr>\n",
       "      <th>4254</th>\n",
       "      <td>WI</td>\n",
       "      <td>F</td>\n",
       "      <td>1921</td>\n",
       "      <td>Ferne</td>\n",
       "      <td>5</td>\n",
       "    </tr>\n",
       "    <tr>\n",
       "      <th>79516</th>\n",
       "      <td>WA</td>\n",
       "      <td>M</td>\n",
       "      <td>1959</td>\n",
       "      <td>Gerard</td>\n",
       "      <td>5</td>\n",
       "    </tr>\n",
       "  </tbody>\n",
       "</table>\n",
       "</div>"
      ],
      "text/plain": [
       "      state gender  year     name  count\n",
       "36651    MO      F  1974  Carolyn     63\n",
       "45930    NY      F  1961      Luz    110\n",
       "419      NE      F  1912   Sylvia     18\n",
       "4254     WI      F  1921    Ferne      5\n",
       "79516    WA      M  1959   Gerard      5"
      ]
     },
     "execution_count": 4,
     "metadata": {},
     "output_type": "execute_result"
    }
   ],
   "source": [
    "df.sample(n=5)"
   ]
  },
  {
   "cell_type": "markdown",
   "metadata": {},
   "source": [
    "## 1.  Please describe the format of the data files. Can you identify any limitations or distortions of the data?"
   ]
  },
  {
   "cell_type": "raw",
   "metadata": {},
   "source": [
    " - The data is in csv format.  \n",
    " - Names delinated to babies prior to 1935 are recorded after birth as social security cards weren't issued till then. Therefore there are fewer names listed. "
   ]
  },
  {
   "cell_type": "markdown",
   "metadata": {},
   "source": [
    "## 2.  What is the most popular name of all time? (Of either gender.)"
   ]
  },
  {
   "cell_type": "markdown",
   "metadata": {},
   "source": [
    " - Our top male name is James and our top Female name is Mary"
   ]
  },
  {
   "cell_type": "code",
   "execution_count": 5,
   "metadata": {
    "collapsed": false
   },
   "outputs": [
    {
     "data": {
      "text/html": [
       "<div>\n",
       "<table border=\"1\" class=\"dataframe\">\n",
       "  <thead>\n",
       "    <tr style=\"text-align: right;\">\n",
       "      <th></th>\n",
       "      <th>name</th>\n",
       "      <th>count</th>\n",
       "    </tr>\n",
       "  </thead>\n",
       "  <tbody>\n",
       "    <tr>\n",
       "      <th>12603</th>\n",
       "      <td>James</td>\n",
       "      <td>4972245</td>\n",
       "    </tr>\n",
       "    <tr>\n",
       "      <th>13934</th>\n",
       "      <td>John</td>\n",
       "      <td>4856146</td>\n",
       "    </tr>\n",
       "    <tr>\n",
       "      <th>23903</th>\n",
       "      <td>Robert</td>\n",
       "      <td>4732092</td>\n",
       "    </tr>\n",
       "    <tr>\n",
       "      <th>20212</th>\n",
       "      <td>Michael</td>\n",
       "      <td>4327717</td>\n",
       "    </tr>\n",
       "    <tr>\n",
       "      <th>29419</th>\n",
       "      <td>William</td>\n",
       "      <td>3855410</td>\n",
       "    </tr>\n",
       "    <tr>\n",
       "      <th>19518</th>\n",
       "      <td>Mary</td>\n",
       "      <td>3743254</td>\n",
       "    </tr>\n",
       "    <tr>\n",
       "      <th>6896</th>\n",
       "      <td>David</td>\n",
       "      <td>3574335</td>\n",
       "    </tr>\n",
       "    <tr>\n",
       "      <th>23768</th>\n",
       "      <td>Richard</td>\n",
       "      <td>2537756</td>\n",
       "    </tr>\n",
       "    <tr>\n",
       "      <th>14157</th>\n",
       "      <td>Joseph</td>\n",
       "      <td>2496911</td>\n",
       "    </tr>\n",
       "    <tr>\n",
       "      <th>5263</th>\n",
       "      <td>Charles</td>\n",
       "      <td>2259433</td>\n",
       "    </tr>\n",
       "  </tbody>\n",
       "</table>\n",
       "</div>"
      ],
      "text/plain": [
       "          name    count\n",
       "12603    James  4972245\n",
       "13934     John  4856146\n",
       "23903   Robert  4732092\n",
       "20212  Michael  4327717\n",
       "29419  William  3855410\n",
       "19518     Mary  3743254\n",
       "6896     David  3574335\n",
       "23768  Richard  2537756\n",
       "14157   Joseph  2496911\n",
       "5263   Charles  2259433"
      ]
     },
     "execution_count": 5,
     "metadata": {},
     "output_type": "execute_result"
    }
   ],
   "source": [
    "popular_names = df.groupby('name').sum().drop('year',1).reset_index()\n",
    "popular_names.sort_values(by='count',ascending=False).head(10)"
   ]
  },
  {
   "cell_type": "markdown",
   "metadata": {},
   "source": [
    "## 3.  What is the most gender ambiguous name in 2013? 1945?"
   ]
  },
  {
   "cell_type": "raw",
   "metadata": {},
   "source": [
    "Because gender equal names with count 5F/5M can score higher than gender equal names with count 100F/100M we use a cutoff of count 100 when considering the gender neutral names. Therefore in 2013 our top gender ambiguous names are Jael, Milan, Lennon. In 1945 we have our top three as Frankie, Leslie, Jessie. "
   ]
  },
  {
   "cell_type": "code",
   "execution_count": 6,
   "metadata": {
    "collapsed": false
   },
   "outputs": [],
   "source": [
    "test = df[df.year == 1945].groupby(['name','gender']).sum().drop('year',1).reset_index()"
   ]
  },
  {
   "cell_type": "code",
   "execution_count": 7,
   "metadata": {
    "collapsed": false
   },
   "outputs": [],
   "source": [
    "t = test.merge(test,on='name')\n",
    "# r.gender_x == r.gender_y and \n",
    "tt = t.apply(lambda r: ord(r.gender_x) > ord(r.gender_y),axis=1)\n",
    "t['v'] = tt"
   ]
  },
  {
   "cell_type": "code",
   "execution_count": 10,
   "metadata": {
    "collapsed": false
   },
   "outputs": [
    {
     "name": "stderr",
     "output_type": "stream",
     "text": [
      "/Users/ingrid/.local/lib/python2.7/site-packages/ipykernel/__main__.py:2: SettingWithCopyWarning: \n",
      "A value is trying to be set on a copy of a slice from a DataFrame.\n",
      "Try using .loc[row_indexer,col_indexer] = value instead\n",
      "\n",
      "See the caveats in the documentation: http://pandas.pydata.org/pandas-docs/stable/indexing.html#indexing-view-versus-copy\n",
      "  from ipykernel import kernelapp as app\n",
      "/Users/ingrid/.local/lib/python2.7/site-packages/ipykernel/__main__.py:3: SettingWithCopyWarning: \n",
      "A value is trying to be set on a copy of a slice from a DataFrame.\n",
      "Try using .loc[row_indexer,col_indexer] = value instead\n",
      "\n",
      "See the caveats in the documentation: http://pandas.pydata.org/pandas-docs/stable/indexing.html#indexing-view-versus-copy\n",
      "  app.launch_new_instance()\n"
     ]
    },
    {
     "data": {
      "text/html": [
       "<div>\n",
       "<table border=\"1\" class=\"dataframe\">\n",
       "  <thead>\n",
       "    <tr style=\"text-align: right;\">\n",
       "      <th></th>\n",
       "      <th>name</th>\n",
       "      <th>gender_x</th>\n",
       "      <th>count_x</th>\n",
       "      <th>gender_y</th>\n",
       "      <th>count_y</th>\n",
       "      <th>v</th>\n",
       "      <th>neutral_score</th>\n",
       "      <th>n</th>\n",
       "    </tr>\n",
       "  </thead>\n",
       "  <tbody>\n",
       "    <tr>\n",
       "      <th>36</th>\n",
       "      <td>Adrian</td>\n",
       "      <td>M</td>\n",
       "      <td>163</td>\n",
       "      <td>F</td>\n",
       "      <td>15</td>\n",
       "      <td>True</td>\n",
       "      <td>0.415730</td>\n",
       "      <td>0.415730</td>\n",
       "    </tr>\n",
       "    <tr>\n",
       "      <th>111</th>\n",
       "      <td>Alva</td>\n",
       "      <td>M</td>\n",
       "      <td>68</td>\n",
       "      <td>F</td>\n",
       "      <td>24</td>\n",
       "      <td>True</td>\n",
       "      <td>0.239130</td>\n",
       "      <td>0.239130</td>\n",
       "    </tr>\n",
       "    <tr>\n",
       "      <th>153</th>\n",
       "      <td>Angel</td>\n",
       "      <td>M</td>\n",
       "      <td>110</td>\n",
       "      <td>F</td>\n",
       "      <td>5</td>\n",
       "      <td>True</td>\n",
       "      <td>0.456522</td>\n",
       "      <td>0.456522</td>\n",
       "    </tr>\n",
       "  </tbody>\n",
       "</table>\n",
       "</div>"
      ],
      "text/plain": [
       "       name gender_x  count_x gender_y  count_y     v  neutral_score         n\n",
       "36   Adrian        M      163        F       15  True       0.415730  0.415730\n",
       "111    Alva        M       68        F       24  True       0.239130  0.239130\n",
       "153   Angel        M      110        F        5  True       0.456522  0.456522"
      ]
     },
     "execution_count": 10,
     "metadata": {},
     "output_type": "execute_result"
    }
   ],
   "source": [
    "ttt = t[t.v == True]\n",
    "ttt['neutral_score'] = ttt.apply(lambda val: val.count_x / float(val.count_x + val.count_y) - .5,axis=1)\n",
    "ttt['n'] = abs(ttt['neutral_score'])\n",
    "ttt[0:3]"
   ]
  },
  {
   "cell_type": "markdown",
   "metadata": {},
   "source": [
    "## 4.  Of the names represented in the data, find the name that has had the largest percentage increase in popularity since 1980. Largest decrease?"
   ]
  },
  {
   "cell_type": "code",
   "execution_count": 45,
   "metadata": {
    "collapsed": false
   },
   "outputs": [
    {
     "data": {
      "text/html": [
       "<div>\n",
       "<table border=\"1\" class=\"dataframe\">\n",
       "  <thead>\n",
       "    <tr style=\"text-align: right;\">\n",
       "      <th></th>\n",
       "      <th>name</th>\n",
       "      <th>count_1980</th>\n",
       "      <th>count_2014</th>\n",
       "      <th>change</th>\n",
       "    </tr>\n",
       "  </thead>\n",
       "  <tbody>\n",
       "    <tr>\n",
       "      <th>1885</th>\n",
       "      <td>Latoya</td>\n",
       "      <td>5</td>\n",
       "      <td>2480</td>\n",
       "      <td>0.997984</td>\n",
       "    </tr>\n",
       "    <tr>\n",
       "      <th>381</th>\n",
       "      <td>Beth</td>\n",
       "      <td>6</td>\n",
       "      <td>2843</td>\n",
       "      <td>0.997890</td>\n",
       "    </tr>\n",
       "    <tr>\n",
       "      <th>2299</th>\n",
       "      <td>Misty</td>\n",
       "      <td>16</td>\n",
       "      <td>5541</td>\n",
       "      <td>0.997112</td>\n",
       "    </tr>\n",
       "    <tr>\n",
       "      <th>1544</th>\n",
       "      <td>Jill</td>\n",
       "      <td>18</td>\n",
       "      <td>4553</td>\n",
       "      <td>0.996047</td>\n",
       "    </tr>\n",
       "    <tr>\n",
       "      <th>2262</th>\n",
       "      <td>Michele</td>\n",
       "      <td>11</td>\n",
       "      <td>2499</td>\n",
       "      <td>0.995598</td>\n",
       "    </tr>\n",
       "    <tr>\n",
       "      <th>804</th>\n",
       "      <td>Debra</td>\n",
       "      <td>7</td>\n",
       "      <td>1542</td>\n",
       "      <td>0.995460</td>\n",
       "    </tr>\n",
       "    <tr>\n",
       "      <th>422</th>\n",
       "      <td>Brandi</td>\n",
       "      <td>22</td>\n",
       "      <td>4701</td>\n",
       "      <td>0.995320</td>\n",
       "    </tr>\n",
       "    <tr>\n",
       "      <th>2988</th>\n",
       "      <td>Terri</td>\n",
       "      <td>5</td>\n",
       "      <td>1044</td>\n",
       "      <td>0.995211</td>\n",
       "    </tr>\n",
       "    <tr>\n",
       "      <th>425</th>\n",
       "      <td>Brandy</td>\n",
       "      <td>34</td>\n",
       "      <td>6426</td>\n",
       "      <td>0.994709</td>\n",
       "    </tr>\n",
       "    <tr>\n",
       "      <th>1746</th>\n",
       "      <td>Kelley</td>\n",
       "      <td>6</td>\n",
       "      <td>1112</td>\n",
       "      <td>0.994604</td>\n",
       "    </tr>\n",
       "  </tbody>\n",
       "</table>\n",
       "</div>"
      ],
      "text/plain": [
       "         name  count_1980  count_2014    change\n",
       "1885   Latoya           5        2480  0.997984\n",
       "381      Beth           6        2843  0.997890\n",
       "2299    Misty          16        5541  0.997112\n",
       "1544     Jill          18        4553  0.996047\n",
       "2262  Michele          11        2499  0.995598\n",
       "804     Debra           7        1542  0.995460\n",
       "422    Brandi          22        4701  0.995320\n",
       "2988    Terri           5        1044  0.995211\n",
       "425    Brandy          34        6426  0.994709\n",
       "1746   Kelley           6        1112  0.994604"
      ]
     },
     "execution_count": 45,
     "metadata": {},
     "output_type": "execute_result"
    }
   ],
   "source": [
    "y1980 = df[df.year == 1980].groupby('name').sum().drop('year',1).reset_index()\n",
    "y2014 = df[df.year == 2014].groupby('name').sum().drop('year',1).reset_index()\n",
    "def fun(val):\n",
    "    return (val.count_2014 - val.count_1980)/float(max(val.count_1980,val.count_2014))\n",
    "\n",
    "ndf = pd.merge(right=y1980,left=y2014,on='name',suffixes = ('_1980','_2014'))\n",
    "ndf['change'] = ndf.apply(lambda val: fun(val),axis=1)\n",
    "ndf.sort_values(by='change',ascending=False).head(10)"
   ]
  },
  {
   "cell_type": "code",
   "execution_count": 46,
   "metadata": {
    "collapsed": false
   },
   "outputs": [
    {
     "data": {
      "text/html": [
       "<div>\n",
       "<table border=\"1\" class=\"dataframe\">\n",
       "  <thead>\n",
       "    <tr style=\"text-align: right;\">\n",
       "      <th></th>\n",
       "      <th>name</th>\n",
       "      <th>count_1980</th>\n",
       "      <th>count_2014</th>\n",
       "      <th>change</th>\n",
       "    </tr>\n",
       "  </thead>\n",
       "  <tbody>\n",
       "    <tr>\n",
       "      <th>667</th>\n",
       "      <td>Colton</td>\n",
       "      <td>6335</td>\n",
       "      <td>5</td>\n",
       "      <td>-0.999211</td>\n",
       "    </tr>\n",
       "    <tr>\n",
       "      <th>262</th>\n",
       "      <td>Aria</td>\n",
       "      <td>5901</td>\n",
       "      <td>5</td>\n",
       "      <td>-0.999153</td>\n",
       "    </tr>\n",
       "    <tr>\n",
       "      <th>2877</th>\n",
       "      <td>Skylar</td>\n",
       "      <td>5089</td>\n",
       "      <td>5</td>\n",
       "      <td>-0.999017</td>\n",
       "    </tr>\n",
       "    <tr>\n",
       "      <th>2273</th>\n",
       "      <td>Mila</td>\n",
       "      <td>4029</td>\n",
       "      <td>5</td>\n",
       "      <td>-0.998759</td>\n",
       "    </tr>\n",
       "    <tr>\n",
       "      <th>2190</th>\n",
       "      <td>Mateo</td>\n",
       "      <td>3692</td>\n",
       "      <td>5</td>\n",
       "      <td>-0.998646</td>\n",
       "    </tr>\n",
       "    <tr>\n",
       "      <th>1377</th>\n",
       "      <td>Isabella</td>\n",
       "      <td>16950</td>\n",
       "      <td>23</td>\n",
       "      <td>-0.998643</td>\n",
       "    </tr>\n",
       "    <tr>\n",
       "      <th>677</th>\n",
       "      <td>Cooper</td>\n",
       "      <td>4873</td>\n",
       "      <td>7</td>\n",
       "      <td>-0.998564</td>\n",
       "    </tr>\n",
       "    <tr>\n",
       "      <th>2808</th>\n",
       "      <td>Serenity</td>\n",
       "      <td>4276</td>\n",
       "      <td>7</td>\n",
       "      <td>-0.998363</td>\n",
       "    </tr>\n",
       "    <tr>\n",
       "      <th>1250</th>\n",
       "      <td>Grayson</td>\n",
       "      <td>6636</td>\n",
       "      <td>13</td>\n",
       "      <td>-0.998041</td>\n",
       "    </tr>\n",
       "    <tr>\n",
       "      <th>361</th>\n",
       "      <td>Bella</td>\n",
       "      <td>4049</td>\n",
       "      <td>8</td>\n",
       "      <td>-0.998024</td>\n",
       "    </tr>\n",
       "  </tbody>\n",
       "</table>\n",
       "</div>"
      ],
      "text/plain": [
       "          name  count_1980  count_2014    change\n",
       "667     Colton        6335           5 -0.999211\n",
       "262       Aria        5901           5 -0.999153\n",
       "2877    Skylar        5089           5 -0.999017\n",
       "2273      Mila        4029           5 -0.998759\n",
       "2190     Mateo        3692           5 -0.998646\n",
       "1377  Isabella       16950          23 -0.998643\n",
       "677     Cooper        4873           7 -0.998564\n",
       "2808  Serenity        4276           7 -0.998363\n",
       "1250   Grayson        6636          13 -0.998041\n",
       "361      Bella        4049           8 -0.998024"
      ]
     },
     "execution_count": 46,
     "metadata": {},
     "output_type": "execute_result"
    }
   ],
   "source": [
    "ndf.sort_values(by='change').head(10)"
   ]
  },
  {
   "cell_type": "markdown",
   "metadata": {},
   "source": [
    "## 5.  Can you identify names that may have had an even larger increase or decrease in popularity?"
   ]
  },
  {
   "cell_type": "code",
   "execution_count": 47,
   "metadata": {
    "collapsed": false
   },
   "outputs": [],
   "source": [
    "xxx = df.groupby(['name','year']).sum()\n",
    "xxx = xxx.reset_index()"
   ]
  },
  {
   "cell_type": "code",
   "execution_count": 48,
   "metadata": {
    "collapsed": false
   },
   "outputs": [],
   "source": [
    "name_table = xxx.pivot(index='year',columns='name' ,values='count').fillna(0)"
   ]
  },
  {
   "cell_type": "code",
   "execution_count": 49,
   "metadata": {
    "collapsed": true
   },
   "outputs": [],
   "source": [
    "def peaks(row):\n",
    "    max_change = max(list(row)) - min(list(row))\n",
    "    return max_change\n",
    "\n",
    "change = name_table.T.apply(lambda row: peaks(row) ,axis=1)"
   ]
  },
  {
   "cell_type": "markdown",
   "metadata": {},
   "source": [
    "### Popularity shifts names"
   ]
  },
  {
   "cell_type": "code",
   "execution_count": 50,
   "metadata": {
    "collapsed": false
   },
   "outputs": [
    {
     "data": {
      "text/plain": [
       "name\n",
       "Linda          99757\n",
       "Michael        92100\n",
       "Robert         86216\n",
       "James          85758\n",
       "David          85036\n",
       "John           77878\n",
       "Mary           71582\n",
       "Jennifer       63724\n",
       "Lisa           60397\n",
       "Christopher    60323\n",
       "dtype: float64"
      ]
     },
     "execution_count": 50,
     "metadata": {},
     "output_type": "execute_result"
    }
   ],
   "source": [
    "change.sort_values(ascending=False).head(10)"
   ]
  },
  {
   "cell_type": "code",
   "execution_count": 222,
   "metadata": {
    "collapsed": false
   },
   "outputs": [
    {
     "data": {
      "image/png": "[encoded data removed]",
      "text/plain": [
       "<matplotlib.figure.Figure at 0x12010e750>"
      ]
     },
     "metadata": {},
     "output_type": "display_data"
    },
    {
     "data": {
      "image/png": "[encoded data removed]",
      "text/plain": [
       "<matplotlib.figure.Figure at 0x11fed3e90>"
      ]
     },
     "metadata": {},
     "output_type": "display_data"
    },
    {
     "data": {
      "image/png": "[encoded data removed]",
      "text/plain": [
       "<matplotlib.figure.Figure at 0x11ff90290>"
      ]
     },
     "metadata": {},
     "output_type": "display_data"
    }
   ],
   "source": [
    "import matplotlib.pyplot as plt\n",
    "%matplotlib inline\n",
    "t = name_table.T.reset_index()\n",
    "for name in ['Linda','Michael','Robert']:\n",
    "    p = t[t.name == name].T.iloc[1::].plot()\n",
    "    plt.title(name)\n",
    "    plt.show()"
   ]
  },
  {
   "cell_type": "markdown",
   "metadata": {
    "collapsed": true
   },
   "source": [
    "## Exploration "
   ]
  },
  {
   "cell_type": "raw",
   "metadata": {},
   "source": [
    "A lot of names that sound similar are spelled different. Here we use the python fuzzy library to take a look at which names have the most diverse spelling and how they relate to their more common counterpart. This library has three algorithm measurements for word distance and we use all three to distinguish the names. \n",
    "\n",
    "We graph the names using the Graphviz library. White boxed names are the most commonly used names of the group and the colored names are the next closest names. We use the Levenshtein distance to calculate how similarly spelled each name is from another and use this metric to space out the boxes and circles. The names in circles are the second and third most common form names of the group. As examples we have the names Ken and Karen. "
   ]
  },
  {
   "cell_type": "code",
   "execution_count": 225,
   "metadata": {
    "collapsed": false
   },
   "outputs": [],
   "source": [
    "import fuzzy"
   ]
  },
  {
   "cell_type": "code",
   "execution_count": 226,
   "metadata": {
    "collapsed": true
   },
   "outputs": [],
   "source": [
    "t = df.groupby(['name']).sum().reset_index().drop('year',1)\n",
    "t[\"phonetics\"] = t.name.apply(lambda n: fuzzy.nysiis(n))"
   ]
  },
  {
   "cell_type": "code",
   "execution_count": 227,
   "metadata": {
    "collapsed": true
   },
   "outputs": [],
   "source": [
    "dmetaphone = fuzzy.DMetaphone(4)\n",
    "t[\"metaphone\"] = t.name.apply(lambda n: dmetaphone(n))\n",
    "t[\"meta1\"] = t.metaphone.apply(lambda n: n[0])\n",
    "t[\"meta2\"] = t.metaphone.apply(lambda n: n[1])"
   ]
  },
  {
   "cell_type": "code",
   "execution_count": 228,
   "metadata": {
    "collapsed": false
   },
   "outputs": [],
   "source": [
    "soundex = fuzzy.Soundex(4)\n",
    "t[\"soundex\"] = t.name.apply(lambda n: soundex(n))"
   ]
  },
  {
   "cell_type": "code",
   "execution_count": 229,
   "metadata": {
    "collapsed": false,
    "scrolled": false
   },
   "outputs": [],
   "source": [
    "t.groupby(['phonetics','meta1','soundex']).count().reset_index().sort_values(by='count',ascending=False).head(10)\n",
    "kn_names = list(t[(t.soundex == 'K500') & (t.phonetics == 'CAN') & (t.meta1 == 'KN')].sort_values(by='count',ascending=False).name)\n",
    "kn_names2 = list(t[(t.soundex == 'K650') & (t.phonetics == 'CARAN') & (t.meta1 == 'KRN')].sort_values(by='count',ascending=False).name)"
   ]
  },
  {
   "cell_type": "code",
   "execution_count": 245,
   "metadata": {
    "collapsed": false,
    "scrolled": false
   },
   "outputs": [
    {
     "data": {
      "image/svg+xml": [
       "<?xml version=\"1.0\" encoding=\"UTF-8\" standalone=\"no\"?>\n",
       "<!DOCTYPE svg PUBLIC \"-//W3C//DTD SVG 1.1//EN\"\n",
       " \"http://www.w3.org/Graphics/SVG/1.1/DTD/svg11.dtd\">\n",
       "<!-- Generated by graphviz version 2.38.0 (20140413.2041)\n",
       " -->\n",
       "<!-- Title: ER Pages: 1 -->\n",
       "<svg width=\"353pt\" height=\"315pt\"\n",
       " viewBox=\"0.00 0.00 352.69 315.40\" xmlns=\"http://www.w3.org/2000/svg\" xmlns:xlink=\"http://www.w3.org/1999/xlink\">\n",
       "<g id=\"graph0\" class=\"graph\" transform=\"scale(1 1) rotate(0) translate(161.771 161.617)\">\n",
       "<title>ER</title>\n",
       "<polygon fill=\"white\" stroke=\"none\" points=\"-161.771,153.783 -161.771,-161.617 190.922,-161.617 190.922,153.783 -161.771,153.783\"/>\n",
       "<!-- Ken -->\n",
       "<g id=\"node1\" class=\"node\"><title>Ken</title>\n",
       "<polygon fill=\"none\" stroke=\"black\" points=\"37.6472,-82.5033 -16.3528,-82.5033 -16.3528,-46.5033 37.6472,-46.5033 37.6472,-82.5033\"/>\n",
       "<text text-anchor=\"middle\" x=\"10.6472\" y=\"-60.3033\" font-family=\"Times,serif\" font-size=\"14.00\">Ken</text>\n",
       "</g>\n",
       "<!-- Kenya -->\n",
       "<g id=\"node2\" class=\"node\"><title>Kenya</title>\n",
       "<ellipse fill=\"orange\" stroke=\"black\" cx=\"128.874\" cy=\"-11.3358\" rx=\"33.3752\" ry=\"33.3752\"/>\n",
       "<text text-anchor=\"middle\" x=\"128.874\" y=\"-7.13579\" font-family=\"Times,serif\" font-size=\"14.00\">Kenya</text>\n",
       "</g>\n",
       "<!-- Ken&#45;&#45;Kenya -->\n",
       "<g id=\"edge3\" class=\"edge\"><title>Ken&#45;&#45;Kenya</title>\n",
       "<path fill=\"none\" stroke=\"black\" d=\"M37.7342,-58.4781C56.7187,-51.4568 81.9889,-40.2242 101.118,-30.3686\"/>\n",
       "</g>\n",
       "<!-- Kiana -->\n",
       "<g id=\"node3\" class=\"node\"><title>Kiana</title>\n",
       "<ellipse fill=\"orange\" stroke=\"black\" cx=\"-72.3114\" cy=\"60.0702\" rx=\"31.4462\" ry=\"31.4462\"/>\n",
       "<text text-anchor=\"middle\" x=\"-72.3114\" y=\"64.2702\" font-family=\"Times,serif\" font-size=\"14.00\">Kiana</text>\n",
       "</g>\n",
       "<!-- Ken&#45;&#45;Kiana -->\n",
       "<g id=\"edge5\" class=\"edge\"><title>Ken&#45;&#45;Kiana</title>\n",
       "<path fill=\"none\" stroke=\"black\" d=\"M4.17338,-46.4039C-7.68763,-24.1753 -32.3189,13.3776 -50.5496,37.4672\"/>\n",
       "</g>\n",
       "<!-- Kane -->\n",
       "<g id=\"node4\" class=\"node\"><title>Kane</title>\n",
       "<polygon fill=\"orange\" stroke=\"black\" points=\"-103.771,-116.399 -157.771,-116.399 -157.771,-80.3993 -103.771,-80.3993 -103.771,-116.399\"/>\n",
       "<text text-anchor=\"middle\" x=\"-130.771\" y=\"-94.1993\" font-family=\"Times,serif\" font-size=\"14.00\">Kane</text>\n",
       "</g>\n",
       "<!-- Ken&#45;&#45;Kane -->\n",
       "<g id=\"edge7\" class=\"edge\"><title>Ken&#45;&#45;Kane</title>\n",
       "<path fill=\"none\" stroke=\"black\" d=\"M-16.6197,-71.0388C-41.6617,-77.041 -78.5726,-85.888 -103.588,-91.8839\"/>\n",
       "</g>\n",
       "<!-- Keon -->\n",
       "<g id=\"node5\" class=\"node\"><title>Keon</title>\n",
       "<polygon fill=\"orange\" stroke=\"black\" points=\"35.0496,-157.617 -18.9504,-157.617 -18.9504,-121.617 35.0496,-121.617 35.0496,-157.617\"/>\n",
       "<text text-anchor=\"middle\" x=\"8.04957\" y=\"-135.417\" font-family=\"Times,serif\" font-size=\"14.00\">Keon</text>\n",
       "</g>\n",
       "<!-- Ken&#45;&#45;Keon -->\n",
       "<g id=\"edge10\" class=\"edge\"><title>Ken&#45;&#45;Keon</title>\n",
       "<path fill=\"none\" stroke=\"black\" d=\"M10.0184,-82.6862C9.60999,-94.496 9.07986,-109.825 8.6726,-121.602\"/>\n",
       "</g>\n",
       "<!-- Kenna -->\n",
       "<g id=\"node6\" class=\"node\"><title>Kenna</title>\n",
       "<polygon fill=\"orange\" stroke=\"black\" points=\"119.106,26.995 65.1057,26.995 65.1057,62.995 119.106,62.995 119.106,26.995\"/>\n",
       "<text text-anchor=\"middle\" x=\"92.1057\" y=\"49.195\" font-family=\"Times,serif\" font-size=\"14.00\">Kenna</text>\n",
       "</g>\n",
       "<!-- Ken&#45;&#45;Kenna -->\n",
       "<g id=\"edge13\" class=\"edge\"><title>Ken&#45;&#45;Kenna</title>\n",
       "<path fill=\"none\" stroke=\"black\" d=\"M24.0984,-46.4219C39.1914,-26.1336 63.5334,6.58752 78.6345,26.8868\"/>\n",
       "</g>\n",
       "<!-- Kianna -->\n",
       "<g id=\"node7\" class=\"node\"><title>Kianna</title>\n",
       "<polygon fill=\"orange\" stroke=\"black\" points=\"-74.2077,112.194 -131.066,112.194 -131.066,148.194 -74.2077,148.194 -74.2077,112.194\"/>\n",
       "<text text-anchor=\"middle\" x=\"-102.637\" y=\"134.394\" font-family=\"Times,serif\" font-size=\"14.00\">Kianna</text>\n",
       "</g>\n",
       "<!-- Ken&#45;&#45;Kianna -->\n",
       "<g id=\"edge16\" class=\"edge\"><title>Ken&#45;&#45;Kianna</title>\n",
       "<path fill=\"none\" stroke=\"black\" d=\"M-0.010283,-46.1866C-21.6564,-8.98425 -70.5376,75.026 -92.0904,112.068\"/>\n",
       "</g>\n",
       "<!-- Kenia -->\n",
       "<g id=\"node8\" class=\"node\"><title>Kenia</title>\n",
       "<polygon fill=\"orange\" stroke=\"black\" points=\"186.922,-90.5116 132.922,-90.5116 132.922,-54.5116 186.922,-54.5116 186.922,-90.5116\"/>\n",
       "<text text-anchor=\"middle\" x=\"159.922\" y=\"-68.3116\" font-family=\"Times,serif\" font-size=\"14.00\">Kenia</text>\n",
       "</g>\n",
       "<!-- Ken&#45;&#45;Kenia -->\n",
       "<g id=\"edge19\" class=\"edge\"><title>Ken&#45;&#45;Kenia</title>\n",
       "<path fill=\"none\" stroke=\"black\" d=\"M37.6798,-65.9535C64.6494,-67.4004 105.851,-69.6108 132.839,-71.0586\"/>\n",
       "</g>\n",
       "<!-- Kian -->\n",
       "<g id=\"node9\" class=\"node\"><title>Kian</title>\n",
       "<polygon fill=\"orange\" stroke=\"black\" points=\"-103.245,1.32437 -157.245,1.32437 -157.245,37.3244 -103.245,37.3244 -103.245,1.32437\"/>\n",
       "<text text-anchor=\"middle\" x=\"-130.245\" y=\"23.5244\" font-family=\"Times,serif\" font-size=\"14.00\">Kian</text>\n",
       "</g>\n",
       "<!-- Ken&#45;&#45;Kian -->\n",
       "<g id=\"edge22\" class=\"edge\"><title>Ken&#45;&#45;Kian</title>\n",
       "<path fill=\"none\" stroke=\"black\" d=\"M-16.5181,-48.3405C-41.4669,-33.4965 -78.2403,-11.6171 -103.163,3.21118\"/>\n",
       "</g>\n",
       "<!-- Keanu -->\n",
       "<g id=\"node10\" class=\"node\"><title>Keanu</title>\n",
       "<polygon fill=\"orange\" stroke=\"black\" points=\"63.3653,113.783 9.3653,113.783 9.3653,149.783 63.3653,149.783 63.3653,113.783\"/>\n",
       "<text text-anchor=\"middle\" x=\"36.3653\" y=\"135.983\" font-family=\"Times,serif\" font-size=\"14.00\">Keanu</text>\n",
       "</g>\n",
       "<!-- Ken&#45;&#45;Keanu -->\n",
       "<g id=\"edge25\" class=\"edge\"><title>Ken&#45;&#45;Keanu</title>\n",
       "<path fill=\"none\" stroke=\"black\" d=\"M13.0206,-46.3889C17.92,-8.99553 29.1031,76.3569 33.9976,113.713\"/>\n",
       "</g>\n",
       "<!-- Kenya&#45;&#45;Ken -->\n",
       "<g id=\"edge1\" class=\"edge\"><title>Kenya&#45;&#45;Ken</title>\n",
       "<path fill=\"none\" stroke=\"black\" d=\"M96.5993,-19.3235C77.6802,-26.6297 54.1226,-37.2606 36.4436,-46.4866\"/>\n",
       "</g>\n",
       "<!-- Kenya&#45;&#45;Kiana -->\n",
       "<g id=\"edge6\" class=\"edge\"><title>Kenya&#45;&#45;Kiana</title>\n",
       "<path fill=\"none\" stroke=\"black\" d=\"M99.5645,4.41087C61.8741,20.2548 -3.24127,43.3235 -41.5984,54.3861\"/>\n",
       "</g>\n",
       "<!-- Kenya&#45;&#45;Kane -->\n",
       "<g id=\"edge8\" class=\"edge\"><title>Kenya&#45;&#45;Kane</title>\n",
       "<path fill=\"none\" stroke=\"black\" d=\"M97.2963,-21.9244C45.8047,-39.1904 -55.3443,-73.1073 -103.733,-89.333\"/>\n",
       "</g>\n",
       "<!-- Kenya&#45;&#45;Keon -->\n",
       "<g id=\"edge11\" class=\"edge\"><title>Kenya&#45;&#45;Keon</title>\n",
       "<path fill=\"none\" stroke=\"black\" d=\"M105.864,-35.7665C82.3104,-60.7734 46.252,-99.0571 25.1245,-121.488\"/>\n",
       "</g>\n",
       "<!-- Kenya&#45;&#45;Kenna -->\n",
       "<g id=\"edge14\" class=\"edge\"><title>Kenya&#45;&#45;Kenna</title>\n",
       "<path fill=\"none\" stroke=\"black\" d=\"M110.705,16.4996C108.39,20.0475 106.069,23.6025 103.891,26.9392\"/>\n",
       "</g>\n",
       "<!-- Kenya&#45;&#45;Kianna -->\n",
       "<g id=\"edge17\" class=\"edge\"><title>Kenya&#45;&#45;Kianna</title>\n",
       "<path fill=\"none\" stroke=\"black\" d=\"M100.487,6.01855C55.9325,33.2558 -29.9061,85.7315 -74.3795,112.919\"/>\n",
       "</g>\n",
       "<!-- Kenya&#45;&#45;Kenia -->\n",
       "<g id=\"edge20\" class=\"edge\"><title>Kenya&#45;&#45;Kenia</title>\n",
       "<path fill=\"none\" stroke=\"black\" d=\"M144.034,-41.2068C146.313,-45.6957 148.601,-50.2052 150.704,-54.3483\"/>\n",
       "</g>\n",
       "<!-- Kenya&#45;&#45;Kian -->\n",
       "<g id=\"edge23\" class=\"edge\"><title>Kenya&#45;&#45;Kian</title>\n",
       "<path fill=\"none\" stroke=\"black\" d=\"M95.7936,-7.42152C44.0843,-1.30304 -54.9279,10.4126 -102.879,16.0863\"/>\n",
       "</g>\n",
       "<!-- Kenya&#45;&#45;Keanu -->\n",
       "<g id=\"edge26\" class=\"edge\"><title>Kenya&#45;&#45;Keanu</title>\n",
       "<path fill=\"none\" stroke=\"black\" d=\"M110.818,16.5988C92.3093,45.2333 64.0595,88.9381 48.2109,113.457\"/>\n",
       "</g>\n",
       "<!-- Kiana&#45;&#45;Ken -->\n",
       "<g id=\"edge2\" class=\"edge\"><title>Kiana&#45;&#45;Ken</title>\n",
       "<path fill=\"none\" stroke=\"black\" d=\"M-59.7773,31.1585C-45.8746,7.29233 -23.6992,-25.7862 -7.838,-46.1726\"/>\n",
       "</g>\n",
       "<!-- Kiana&#45;&#45;Kenya -->\n",
       "<g id=\"edge4\" class=\"edge\"><title>Kiana&#45;&#45;Kenya</title>\n",
       "<path fill=\"none\" stroke=\"black\" d=\"M-44.7056,45.0429C-7.90776,29.4423 57.0738,6.34166 96.249,-5.09666\"/>\n",
       "</g>\n",
       "<!-- Kiana&#45;&#45;Kane -->\n",
       "<g id=\"edge9\" class=\"edge\"><title>Kiana&#45;&#45;Kane</title>\n",
       "<path fill=\"none\" stroke=\"black\" d=\"M-83.1702,30.6347C-95.1234,-1.76727 -113.97,-52.854 -123.986,-80.0066\"/>\n",
       "</g>\n",
       "<!-- Kiana&#45;&#45;Keon -->\n",
       "<g id=\"edge12\" class=\"edge\"><title>Kiana&#45;&#45;Keon</title>\n",
       "<path fill=\"none\" stroke=\"black\" d=\"M-60.6262,31.0339C-43.7797,-10.8277 -13.1643,-86.9032 0.780508,-121.554\"/>\n",
       "</g>\n",
       "<!-- Kiana&#45;&#45;Kenna -->\n",
       "<g id=\"edge15\" class=\"edge\"><title>Kiana&#45;&#45;Kenna</title>\n",
       "<path fill=\"none\" stroke=\"black\" d=\"M-40.9988,57.1992C-10.3452,54.3886 35.8735,50.1509 64.9966,47.4806\"/>\n",
       "</g>\n",
       "<!-- Kiana&#45;&#45;Kianna -->\n",
       "<g id=\"edge18\" class=\"edge\"><title>Kiana&#45;&#45;Kianna</title>\n",
       "<path fill=\"none\" stroke=\"black\" d=\"M-84.8211,88.9971C-88.2147,96.8444 -91.7914,105.115 -94.8422,112.17\"/>\n",
       "</g>\n",
       "<!-- Kiana&#45;&#45;Kenia -->\n",
       "<g id=\"edge21\" class=\"edge\"><title>Kiana&#45;&#45;Kenia</title>\n",
       "<path fill=\"none\" stroke=\"black\" d=\"M-44.7592,44.3407C0.0563564,18.7556 88.2058,-31.5688 132.765,-57.0077\"/>\n",
       "</g>\n",
       "<!-- Kiana&#45;&#45;Kian -->\n",
       "<g id=\"edge24\" class=\"edge\"><title>Kiana&#45;&#45;Kian</title>\n",
       "<path fill=\"none\" stroke=\"black\" d=\"M-97.8904,42.0799C-100.073,40.5449 -102.281,38.9917 -104.465,37.4556\"/>\n",
       "</g>\n",
       "<!-- Kiana&#45;&#45;Keanu -->\n",
       "<g id=\"edge27\" class=\"edge\"><title>Kiana&#45;&#45;Keanu</title>\n",
       "<path fill=\"none\" stroke=\"black\" d=\"M-46.0038,77.4299C-29.294,88.4563 -7.71428,102.696 9.16504,113.835\"/>\n",
       "</g>\n",
       "</g>\n",
       "</svg>\n"
      ],
      "text/plain": [
       "<graphviz.dot.Graph at 0x120053150>"
      ]
     },
     "execution_count": 245,
     "metadata": {},
     "output_type": "execute_result"
    }
   ],
   "source": [
    "from graphviz import Graph\n",
    "import graphviz\n",
    "from graphviz import Digraph\n",
    "import distance\n",
    "\n",
    "e = Graph('ER', filename='er.gv', engine='neato')\n",
    "li = kn_names\n",
    "for i,n in enumerate(li):\n",
    "    if i < 10:\n",
    "        e.attr('node', shape='box')\n",
    "        e.node(n)\n",
    "        for k,j in enumerate(li):\n",
    "            # if similarity > threshold\n",
    "            if n!=j and k<3:\n",
    "                e.attr('node', shape='circle',fillcolor='orange',style='filled')\n",
    "                e.node(j)\n",
    "                #computed similarity for len\n",
    "                e.edge(j,n,len=str(float(distance.levenshtein(n,j))))\n",
    "e.render()\n",
    "e"
   ]
  },
  {
   "cell_type": "code",
   "execution_count": 244,
   "metadata": {
    "collapsed": false
   },
   "outputs": [
    {
     "data": {
      "image/svg+xml": [
       "<?xml version=\"1.0\" encoding=\"UTF-8\" standalone=\"no\"?>\n",
       "<!DOCTYPE svg PUBLIC \"-//W3C//DTD SVG 1.1//EN\"\n",
       " \"http://www.w3.org/Graphics/SVG/1.1/DTD/svg11.dtd\">\n",
       "<!-- Generated by graphviz version 2.38.0 (20140413.2041)\n",
       " -->\n",
       "<!-- Title: ER Pages: 1 -->\n",
       "<svg width=\"348pt\" height=\"405pt\"\n",
       " viewBox=\"0.00 0.00 348.02 404.53\" xmlns=\"http://www.w3.org/2000/svg\" xmlns:xlink=\"http://www.w3.org/1999/xlink\">\n",
       "<g id=\"graph0\" class=\"graph\" transform=\"scale(1 1) rotate(0) translate(161.701 263.29)\">\n",
       "<title>ER</title>\n",
       "<polygon fill=\"white\" stroke=\"none\" points=\"-161.701,141.244 -161.701,-263.29 186.323,-263.29 186.323,141.244 -161.701,141.244\"/>\n",
       "<!-- Karen -->\n",
       "<g id=\"node1\" class=\"node\"><title>Karen</title>\n",
       "<polygon fill=\"none\" stroke=\"black\" points=\"23.6517,14.938 -30.3483,14.938 -30.3483,50.938 23.6517,50.938 23.6517,14.938\"/>\n",
       "<text text-anchor=\"middle\" x=\"-3.34828\" y=\"37.138\" font-family=\"Times,serif\" font-size=\"14.00\">Karen</text>\n",
       "</g>\n",
       "<!-- Karina -->\n",
       "<g id=\"node2\" class=\"node\"><title>Karina</title>\n",
       "<ellipse fill=\"green\" stroke=\"black\" cx=\"90.0063\" cy=\"-41.1407\" rx=\"34.3354\" ry=\"34.3354\"/>\n",
       "<text text-anchor=\"middle\" x=\"90.0063\" y=\"-36.9407\" font-family=\"Times,serif\" font-size=\"14.00\">Karina</text>\n",
       "</g>\n",
       "<!-- Karen&#45;&#45;Karina -->\n",
       "<g id=\"edge3\" class=\"edge\"><title>Karen&#45;&#45;Karina</title>\n",
       "<path fill=\"none\" stroke=\"black\" d=\"M10.8473,14.7654C23.7642,2.62355 43.1311,-13.0653 59.5062,-24.809\"/>\n",
       "</g>\n",
       "<!-- Karin -->\n",
       "<g id=\"node3\" class=\"node\"><title>Karin</title>\n",
       "<ellipse fill=\"green\" stroke=\"black\" cx=\"16.2733\" cy=\"-8.20302\" rx=\"30.4862\" ry=\"30.4862\"/>\n",
       "<text text-anchor=\"middle\" x=\"16.2733\" y=\"-4.00302\" font-family=\"Times,serif\" font-size=\"14.00\">Karin</text>\n",
       "</g>\n",
       "<!-- Karen&#45;&#45;Karin -->\n",
       "<g id=\"edge5\" class=\"edge\"><title>Karen&#45;&#45;Karin</title>\n",
       "<path fill=\"none\" stroke=\"black\" d=\"M-1.9545,14.7987C-1.91731,14.7043 -1.87988,14.6098 -1.84221,14.5152\"/>\n",
       "</g>\n",
       "<!-- Karyn -->\n",
       "<g id=\"node4\" class=\"node\"><title>Karyn</title>\n",
       "<polygon fill=\"green\" stroke=\"black\" points=\"-29.1148,-46.6877 -83.1148,-46.6877 -83.1148,-10.6877 -29.1148,-10.6877 -29.1148,-46.6877\"/>\n",
       "<text text-anchor=\"middle\" x=\"-56.1148\" y=\"-24.4877\" font-family=\"Times,serif\" font-size=\"14.00\">Karyn</text>\n",
       "</g>\n",
       "<!-- Karen&#45;&#45;Karyn -->\n",
       "<g id=\"edge7\" class=\"edge\"><title>Karen&#45;&#45;Karyn</title>\n",
       "<path fill=\"none\" stroke=\"black\" d=\"M-18.8946,14.7816C-25.7042,6.82868 -33.6796,-2.48572 -40.4973,-10.4481\"/>\n",
       "</g>\n",
       "<!-- Kieran -->\n",
       "<g id=\"node5\" class=\"node\"><title>Kieran</title>\n",
       "<polygon fill=\"green\" stroke=\"black\" points=\"-9.41894,-259.29 -63.5988,-259.29 -63.5988,-223.29 -9.41894,-223.29 -9.41894,-259.29\"/>\n",
       "<text text-anchor=\"middle\" x=\"-36.5089\" y=\"-237.09\" font-family=\"Times,serif\" font-size=\"14.00\">Kieran</text>\n",
       "</g>\n",
       "<!-- Karen&#45;&#45;Kieran -->\n",
       "<g id=\"edge10\" class=\"edge\"><title>Karen&#45;&#45;Kieran</title>\n",
       "<path fill=\"none\" stroke=\"black\" d=\"M-5.57553,14.5193C-11.6165,-35.4375 -28.2617,-173.089 -34.2913,-222.952\"/>\n",
       "</g>\n",
       "<!-- Karon -->\n",
       "<g id=\"node6\" class=\"node\"><title>Karon</title>\n",
       "<polygon fill=\"green\" stroke=\"black\" points=\"33.9713,-78.9478 -20.0287,-78.9478 -20.0287,-42.9478 33.9713,-42.9478 33.9713,-78.9478\"/>\n",
       "<text text-anchor=\"middle\" x=\"6.97132\" y=\"-56.7478\" font-family=\"Times,serif\" font-size=\"14.00\">Karon</text>\n",
       "</g>\n",
       "<!-- Karen&#45;&#45;Karon -->\n",
       "<g id=\"edge13\" class=\"edge\"><title>Karen&#45;&#45;Karon</title>\n",
       "<path fill=\"none\" stroke=\"black\" d=\"M-1.35856,14.8359C0.468809,-1.78915 3.16227,-26.2938 4.98771,-42.9012\"/>\n",
       "</g>\n",
       "<!-- Karan -->\n",
       "<g id=\"node7\" class=\"node\"><title>Karan</title>\n",
       "<polygon fill=\"green\" stroke=\"black\" points=\"-32.5315,18.7629 -86.5315,18.7629 -86.5315,54.7629 -32.5315,54.7629 -32.5315,18.7629\"/>\n",
       "<text text-anchor=\"middle\" x=\"-59.5315\" y=\"40.9629\" font-family=\"Times,serif\" font-size=\"14.00\">Karan</text>\n",
       "</g>\n",
       "<!-- Karen&#45;&#45;Karan -->\n",
       "<g id=\"edge16\" class=\"edge\"><title>Karen&#45;&#45;Karan</title>\n",
       "<path fill=\"none\" stroke=\"black\" d=\"M-30.4525,34.7832C-31.1259,34.8291 -31.8001,34.875 -32.4736,34.9208\"/>\n",
       "</g>\n",
       "<!-- Keren -->\n",
       "<g id=\"node8\" class=\"node\"><title>Keren</title>\n",
       "<polygon fill=\"green\" stroke=\"black\" points=\"44.63,90.5304 -9.36999,90.5304 -9.36999,126.53 44.63,126.53 44.63,90.5304\"/>\n",
       "<text text-anchor=\"middle\" x=\"17.63\" y=\"112.73\" font-family=\"Times,serif\" font-size=\"14.00\">Keren</text>\n",
       "</g>\n",
       "<!-- Karen&#45;&#45;Keren -->\n",
       "<g id=\"edge19\" class=\"edge\"><title>Karen&#45;&#45;Keren</title>\n",
       "<path fill=\"none\" stroke=\"black\" d=\"M1.72998,51.2368C5.02829,63.1218 9.30956,78.5488 12.5985,90.4001\"/>\n",
       "</g>\n",
       "<!-- Kyron -->\n",
       "<g id=\"node9\" class=\"node\"><title>Kyron</title>\n",
       "<polygon fill=\"green\" stroke=\"black\" points=\"-103.701,101.244 -157.701,101.244 -157.701,137.244 -103.701,137.244 -103.701,101.244\"/>\n",
       "<text text-anchor=\"middle\" x=\"-130.701\" y=\"123.444\" font-family=\"Times,serif\" font-size=\"14.00\">Kyron</text>\n",
       "</g>\n",
       "<!-- Karen&#45;&#45;Kyron -->\n",
       "<g id=\"edge22\" class=\"edge\"><title>Karen&#45;&#45;Kyron</title>\n",
       "<path fill=\"none\" stroke=\"black\" d=\"M-30.0456,51.0307C-51.7809,65.7606 -82.313,86.4521 -104.039,101.176\"/>\n",
       "</g>\n",
       "<!-- Kiran -->\n",
       "<g id=\"node10\" class=\"node\"><title>Kiran</title>\n",
       "<polygon fill=\"green\" stroke=\"black\" points=\"182.323,64.7935 128.323,64.7935 128.323,100.794 182.323,100.794 182.323,64.7935\"/>\n",
       "<text text-anchor=\"middle\" x=\"155.323\" y=\"86.9935\" font-family=\"Times,serif\" font-size=\"14.00\">Kiran</text>\n",
       "</g>\n",
       "<!-- Karen&#45;&#45;Kiran -->\n",
       "<g id=\"edge25\" class=\"edge\"><title>Karen&#45;&#45;Kiran</title>\n",
       "<path fill=\"none\" stroke=\"black\" d=\"M23.9284,41.5085C53.0799,50.6681 99.0211,65.103 128.138,74.2516\"/>\n",
       "</g>\n",
       "<!-- Karina&#45;&#45;Karen -->\n",
       "<g id=\"edge1\" class=\"edge\"><title>Karina&#45;&#45;Karen</title>\n",
       "<path fill=\"none\" stroke=\"black\" d=\"M67.3303,-15.2893C54.1725,-3.75114 37.5679,9.33328 23.7316,19.032\"/>\n",
       "</g>\n",
       "<!-- Karina&#45;&#45;Karin -->\n",
       "<g id=\"edge6\" class=\"edge\"><title>Karina&#45;&#45;Karin</title>\n",
       "<path fill=\"none\" stroke=\"black\" d=\"M61.8843,-21.2737C56.7326,-18.8182 51.341,-16.4571 46.1407,-14.383\"/>\n",
       "</g>\n",
       "<!-- Karina&#45;&#45;Karyn -->\n",
       "<g id=\"edge8\" class=\"edge\"><title>Karina&#45;&#45;Karyn</title>\n",
       "<path fill=\"none\" stroke=\"black\" d=\"M55.7474,-38.221C29.9352,-36.0212 -4.97973,-33.0456 -28.8969,-31.0073\"/>\n",
       "</g>\n",
       "<!-- Karina&#45;&#45;Kieran -->\n",
       "<g id=\"edge11\" class=\"edge\"><title>Karina&#45;&#45;Kieran</title>\n",
       "<path fill=\"none\" stroke=\"black\" d=\"M71.6099,-70.2441C45.0878,-112.203 -3.11112,-188.454 -25.0649,-223.186\"/>\n",
       "</g>\n",
       "<!-- Karina&#45;&#45;Karon -->\n",
       "<g id=\"edge14\" class=\"edge\"><title>Karina&#45;&#45;Karon</title>\n",
       "<path fill=\"none\" stroke=\"black\" d=\"M56.7112,-49.0829C49.2215,-50.8695 41.3598,-52.7448 34.1547,-54.4635\"/>\n",
       "</g>\n",
       "<!-- Karina&#45;&#45;Karan -->\n",
       "<g id=\"edge17\" class=\"edge\"><title>Karina&#45;&#45;Karan</title>\n",
       "<path fill=\"none\" stroke=\"black\" d=\"M59.3842,-25.1878C32.3827,-11.121 -6.58621,9.18037 -32.4649,22.6622\"/>\n",
       "</g>\n",
       "<!-- Karina&#45;&#45;Keren -->\n",
       "<g id=\"edge20\" class=\"edge\"><title>Karina&#45;&#45;Keren</title>\n",
       "<path fill=\"none\" stroke=\"black\" d=\"M75.0099,-10.1287C60.3524,20.1822 38.5335,65.3029 26.4629,90.2644\"/>\n",
       "</g>\n",
       "<!-- Karina&#45;&#45;Kyron -->\n",
       "<g id=\"edge23\" class=\"edge\"><title>Karina&#45;&#45;Kyron</title>\n",
       "<path fill=\"none\" stroke=\"black\" d=\"M62.0536,-20.8278C18.6716,10.6973 -64.1828,70.9066 -105.695,101.073\"/>\n",
       "</g>\n",
       "<!-- Karina&#45;&#45;Kiran -->\n",
       "<g id=\"edge26\" class=\"edge\"><title>Karina&#45;&#45;Kiran</title>\n",
       "<path fill=\"none\" stroke=\"black\" d=\"M105.985,-10.823C118.448,12.8252 135.342,44.8797 145.777,64.6802\"/>\n",
       "</g>\n",
       "<!-- Karin&#45;&#45;Karen -->\n",
       "<g id=\"edge2\" class=\"edge\"><title>Karin&#45;&#45;Karen</title>\n",
       "<path fill=\"none\" stroke=\"black\" d=\"M9.35556,21.3347C9.28673,21.4526 9.21774,21.57 9.1486,21.6869\"/>\n",
       "</g>\n",
       "<!-- Karin&#45;&#45;Karina -->\n",
       "<g id=\"edge4\" class=\"edge\"><title>Karin&#45;&#45;Karina</title>\n",
       "<path fill=\"none\" stroke=\"black\" d=\"M40.6458,-26.2448C45.7287,-28.7725 51.1681,-31.2518 56.513,-33.4811\"/>\n",
       "</g>\n",
       "<!-- Karin&#45;&#45;Karyn -->\n",
       "<g id=\"edge9\" class=\"edge\"><title>Karin&#45;&#45;Karyn</title>\n",
       "<path fill=\"none\" stroke=\"black\" d=\"M-13.1697,-16.5349C-18.3365,-17.9971 -23.6937,-19.513 -28.7995,-20.9579\"/>\n",
       "</g>\n",
       "<!-- Karin&#45;&#45;Kieran -->\n",
       "<g id=\"edge12\" class=\"edge\"><title>Karin&#45;&#45;Kieran</title>\n",
       "<path fill=\"none\" stroke=\"black\" d=\"M9.58839,-37.7237C-1.47991,-86.6015 -23.2923,-182.925 -32.3812,-223.062\"/>\n",
       "</g>\n",
       "<!-- Karin&#45;&#45;Karon -->\n",
       "<g id=\"edge15\" class=\"edge\"><title>Karin&#45;&#45;Karon</title>\n",
       "<path fill=\"none\" stroke=\"black\" d=\"M10.9702,-38.2731C10.6927,-39.8463 10.4185,-41.4016 10.1514,-42.9159\"/>\n",
       "</g>\n",
       "<!-- Karin&#45;&#45;Karan -->\n",
       "<g id=\"edge18\" class=\"edge\"><title>Karin&#45;&#45;Karan</title>\n",
       "<path fill=\"none\" stroke=\"black\" d=\"M-9.81442,7.27169C-17.0951,11.5904 -25.022,16.2925 -32.3633,20.6472\"/>\n",
       "</g>\n",
       "<!-- Karin&#45;&#45;Keren -->\n",
       "<g id=\"edge21\" class=\"edge\"><title>Karin&#45;&#45;Keren</title>\n",
       "<path fill=\"none\" stroke=\"black\" d=\"M16.6262,22.1626C16.8775,43.7798 17.2068,72.1129 17.4184,90.3229\"/>\n",
       "</g>\n",
       "<!-- Karin&#45;&#45;Kyron -->\n",
       "<g id=\"edge24\" class=\"edge\"><title>Karin&#45;&#45;Kyron</title>\n",
       "<path fill=\"none\" stroke=\"black\" d=\"M-6.69143,11.7106C-34.9488,36.2138 -82.5227,77.4671 -109.799,101.12\"/>\n",
       "</g>\n",
       "<!-- Karin&#45;&#45;Kiran -->\n",
       "<g id=\"edge27\" class=\"edge\"><title>Karin&#45;&#45;Kiran</title>\n",
       "<path fill=\"none\" stroke=\"black\" d=\"M41.7772,8.48715C66.2391,24.4954 103.052,48.5864 128.08,64.9648\"/>\n",
       "</g>\n",
       "</g>\n",
       "</svg>\n"
      ],
      "text/plain": [
       "<graphviz.dot.Graph at 0x120668650>"
      ]
     },
     "execution_count": 244,
     "metadata": {},
     "output_type": "execute_result"
    }
   ],
   "source": [
    "e = Graph('ER', filename='er.gv', engine='neato')\n",
    "li = kn_names2\n",
    "for i,n in enumerate(li):\n",
    "    if i < 10:\n",
    "        e.attr('node', shape='box')\n",
    "        e.node(n)\n",
    "        for k,j in enumerate(li):\n",
    "            # if similarity > threshold\n",
    "            if n!=j and k<3:\n",
    "                e.attr('node', shape='circle',fillcolor='green',style='filled')\n",
    "                e.node(j)\n",
    "                #computed similarity for len\n",
    "                e.edge(j,n,len=str(float(distance.levenshtein(n,j))))\n",
    "e.render()\n",
    "e"
   ]
  },
  {
   "cell_type": "code",
   "execution_count": null,
   "metadata": {
    "collapsed": true
   },
   "outputs": [],
   "source": []
  }
 ],
 "metadata": {
  "kernelspec": {
   "display_name": "Python 2",
   "language": "python",
   "name": "python2"
  },
  "language_info": {
   "codemirror_mode": {
    "name": "ipython",
    "version": 2
   },
   "file_extension": ".py",
   "mimetype": "text/x-python",
   "name": "python",
   "nbconvert_exporter": "python",
   "pygments_lexer": "ipython2",
   "version": "2.7.11"
  }
 },
 "nbformat": 4,
 "nbformat_minor": 0
}
